{
  "nbformat": 4,
  "nbformat_minor": 0,
  "metadata": {
    "colab": {
      "provenance": [],
      "authorship_tag": "ABX9TyPA23hv+IlxxdAQHrprpUXG",
      "include_colab_link": true
    },
    "kernelspec": {
      "name": "ir",
      "display_name": "R"
    },
    "language_info": {
      "name": "R"
    }
  },
  "cells": [
    {
      "cell_type": "markdown",
      "metadata": {
        "id": "view-in-github",
        "colab_type": "text"
      },
      "source": [
        "<a href=\"https://colab.research.google.com/github/francescopatane96/biomaRt-from-Ensembl-id-to-entrez-AC/blob/main/biomaRt_from_ensembl_to_entrez.ipynb\" target=\"_parent\"><img src=\"https://colab.research.google.com/assets/colab-badge.svg\" alt=\"Open In Colab\"/></a>"
      ]
    },
    {
      "cell_type": "code",
      "source": [
        "if (!require(\"BiocManager\", quietly = TRUE))\n",
        "    install.packages(\"BiocManager\")\n",
        "\n",
        "BiocManager::install(\"biomaRt\")"
      ],
      "metadata": {
        "id": "IIX1qBiEseYP"
      },
      "execution_count": null,
      "outputs": []
    },
    {
      "cell_type": "code",
      "execution_count": null,
      "metadata": {
        "id": "iCh2VhWXpraU"
      },
      "outputs": [],
      "source": [
        "library(biomaRt)\n",
        "ens <- useEnsembl(biomart = \"genes\", \n",
        "                  dataset = \"hsapiens_gene_ensembl\")"
      ]
    },
    {
      "cell_type": "code",
      "source": [
        "#ens <- useMart(\"ensembl\")\n",
        "#datasets <- listDatasets(ens)\n",
        "#ens <- useDataset(\"hsapiens_gene_ensembl\",ens)"
      ],
      "metadata": {
        "id": "C1PRJly8p0wn"
      },
      "execution_count": null,
      "outputs": []
    },
    {
      "cell_type": "code",
      "source": [
        "#upload UP DEG \n",
        "gene_list_up_in <- read.csv('your_file.csv', header=F, sep='\\t')\n",
        "gene_list_UP <- gene_list_up_in$V1"
      ],
      "metadata": {
        "id": "krPatmhup4s3"
      },
      "execution_count": null,
      "outputs": []
    },
    {
      "cell_type": "code",
      "source": [
        "#upload DOWN DEG\n",
        "gene_list_DOWN <- read.csv('your_file.csv.csv', header=F, sep='\\t')"
      ],
      "metadata": {
        "id": "xF8VOuBqqmM_"
      },
      "execution_count": null,
      "outputs": []
    },
    {
      "cell_type": "code",
      "source": [
        "entrezgene_id_list_up = getBM(attributes = 'entrezgene_accession',\n",
        "                              \n",
        "                              filters = 'ensembl_gene_id',\n",
        "       \n",
        "                              values = c(gene_list_UP), \n",
        "      \n",
        "                              mart = ens)"
      ],
      "metadata": {
        "id": "gogbuxvBqKJ6"
      },
      "execution_count": null,
      "outputs": []
    },
    {
      "cell_type": "code",
      "source": [
        "entrezgene_id_list_down = getBM(attributes = 'entrezgene_accession',\n",
        "\n",
        "                                filters = 'ensembl_gene_id',\n",
        "\n",
        "                                values = gene_list_DOWN, \n",
        "                                \n",
        "                                mart = ens)"
      ],
      "metadata": {
        "id": "aut9GsxNqw7n"
      },
      "execution_count": null,
      "outputs": []
    },
    {
      "cell_type": "markdown",
      "source": [
        "save your csv files containing entrez accession symbols"
      ],
      "metadata": {
        "id": "EwhrvUTDqQLf"
      }
    },
    {
      "cell_type": "code",
      "source": [
        "write.table(entrezgene_id_list_up, file = \"entrezgene_symbols_list_UP.csv\")"
      ],
      "metadata": {
        "id": "ilNYvqMRqMfX"
      },
      "execution_count": null,
      "outputs": []
    },
    {
      "cell_type": "code",
      "source": [
        "write.table(entrezgene_id_list_down, file = \"entrezgene_symbols_list_DOWN.csv\")\n"
      ],
      "metadata": {
        "id": "q72UY77Aq784"
      },
      "execution_count": null,
      "outputs": []
    }
  ]
}